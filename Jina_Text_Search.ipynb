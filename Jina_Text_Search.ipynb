{
 "cells": [
  {
   "cell_type": "code",
   "execution_count": 1,
   "metadata": {},
   "outputs": [],
   "source": [
    "from jina import Flow , Executor , requests , Document , DocumentArray\n",
    "import pandas as pd\n",
    "import streamlit as st"
   ]
  },
  {
   "cell_type": "code",
   "execution_count": 2,
   "metadata": {},
   "outputs": [
    {
     "data": {
      "text/html": [
       "<div>\n",
       "<style scoped>\n",
       "    .dataframe tbody tr th:only-of-type {\n",
       "        vertical-align: middle;\n",
       "    }\n",
       "\n",
       "    .dataframe tbody tr th {\n",
       "        vertical-align: top;\n",
       "    }\n",
       "\n",
       "    .dataframe thead th {\n",
       "        text-align: right;\n",
       "    }\n",
       "</style>\n",
       "<table border=\"1\" class=\"dataframe\">\n",
       "  <thead>\n",
       "    <tr style=\"text-align: right;\">\n",
       "      <th></th>\n",
       "      <th>Word</th>\n",
       "      <th>Definition</th>\n",
       "    </tr>\n",
       "  </thead>\n",
       "  <tbody>\n",
       "    <tr>\n",
       "      <th>0</th>\n",
       "      <td>A</td>\n",
       "      <td>\"The first letter of the English and of many o...</td>\n",
       "    </tr>\n",
       "    <tr>\n",
       "      <th>1</th>\n",
       "      <td>A</td>\n",
       "      <td>\"The name of the sixth tone in the model major...</td>\n",
       "    </tr>\n",
       "    <tr>\n",
       "      <th>2</th>\n",
       "      <td>A</td>\n",
       "      <td>\"An adjective  commonly called the indefinite ...</td>\n",
       "    </tr>\n",
       "    <tr>\n",
       "      <th>3</th>\n",
       "      <td>A</td>\n",
       "      <td>\"In each; to or for each; as  \"\"\"\"twenty leagu...</td>\n",
       "    </tr>\n",
       "    <tr>\n",
       "      <th>4</th>\n",
       "      <td>A</td>\n",
       "      <td>\"In; on; at; by.\"</td>\n",
       "    </tr>\n",
       "  </tbody>\n",
       "</table>\n",
       "</div>"
      ],
      "text/plain": [
       "  Word                                         Definition\n",
       "0    A  \"The first letter of the English and of many o...\n",
       "1    A  \"The name of the sixth tone in the model major...\n",
       "2    A  \"An adjective  commonly called the indefinite ...\n",
       "3    A  \"In each; to or for each; as  \"\"\"\"twenty leagu...\n",
       "4    A                                  \"In; on; at; by.\""
      ]
     },
     "execution_count": 2,
     "metadata": {},
     "output_type": "execute_result"
    }
   ],
   "source": [
    "st.title(\"Semantic Text Search Engine\")\n",
    "df = pd.read_csv(\"Dictionary.csv\")\n",
    "df = df.drop(columns=['POS' , 'Count'])\n",
    "df.head()"
   ]
  },
  {
   "cell_type": "code",
   "execution_count": 3,
   "metadata": {},
   "outputs": [
    {
     "data": {
      "text/plain": [
       "(175761, 2)"
      ]
     },
     "execution_count": 3,
     "metadata": {},
     "output_type": "execute_result"
    }
   ],
   "source": [
    "df = df.drop_duplicates().dropna()\n",
    "df.shape"
   ]
  },
  {
   "cell_type": "code",
   "execution_count": 4,
   "metadata": {},
   "outputs": [
    {
     "data": {
      "text/plain": [
       "<jina.types.arrays.document.DocumentArray length=175761 at 2782961843600>"
      ]
     },
     "execution_count": 4,
     "metadata": {},
     "output_type": "execute_result"
    }
   ],
   "source": [
    "Document(text = 'something')\n",
    "docs = DocumentArray()\n",
    "for ind in range(df.shape[0]):\n",
    "    word = df.iloc[ind,0]\n",
    "    defn = df.iloc[ind,1]\n",
    "    doc = Document(text= word)\n",
    "    doc.tags['Definition'] = defn\n",
    "    doc.tags['Index']\n",
    "    docs.append(doc)\n",
    "docs"
   ]
  },
  {
   "cell_type": "markdown",
   "metadata": {},
   "source": [
    "for value in docs:\n",
    "    print(docs)\n",
    "    "
   ]
  },
  {
   "cell_type": "code",
   "execution_count": 5,
   "metadata": {},
   "outputs": [
    {
     "data": {
      "text/plain": [
       "'{\\n  \"id\": \"bcdcb20e-3eb5-11ec-bea2-005056c00008\",\\n  \"mime_type\": \"text/plain\",\\n  \"tags\": {\\n    \"Definition\": \"\\\\\"The first letter of the English and of many other alphabets. The capital A of the alphabets of Middle and Western Europe  as also the small letter (a) besides the forms in Italic black letter etc. are all descended from the old Latin A which was borrowed from the Greek Alpha of the same form; and this was made from the first letter (/) of the Phoenician alphabet the equivalent of the Hebrew Aleph and itself from the Egyptian origin. The Aleph was a consonant letter with a guttural breath sound that was not an element of Greek articulation; and the Greeks took it to represent their vowel Alpha with the a sound the Phoenician alphabet having no vowel symbols.\\\\\"\"\\n  },\\n  \"text\": \"A\"\\n}'"
      ]
     },
     "execution_count": 5,
     "metadata": {},
     "output_type": "execute_result"
    }
   ],
   "source": [
    "docs[0].json()"
   ]
  },
  {
   "cell_type": "code",
   "execution_count": 18,
   "metadata": {},
   "outputs": [
    {
     "name": "stdout",
     "output_type": "stream",
     "text": [
      "The first letter of the English and of many other alphabets. The capital A of the alphabets of Middle and Western Europe  as also the small letter (a) besides the forms in Italic black letter etc. are all descended from the old Latin A which was borrowed from the Greek Alpha of the same form; and this was made from the first letter (/) of the Phoenician alphabet the equivalent of the Hebrew Aleph and itself from the Egyptian origin. The Aleph was a consonant letter with a guttural breath sound that was not an element of Greek articulation; and the Greeks took it to represent their vowel Alpha with the a sound the Phoenician alphabet having no vowel symbols.\n"
     ]
    }
   ],
   "source": [
    "string = str(docs[0].tags)\n",
    "string= string[17 : ]\n",
    "string = string[ :-3]\n",
    "print(string)"
   ]
  },
  {
   "cell_type": "code",
   "execution_count": 6,
   "metadata": {},
   "outputs": [
    {
     "data": {
      "text/plain": [
       "'A'"
      ]
     },
     "execution_count": 6,
     "metadata": {},
     "output_type": "execute_result"
    }
   ],
   "source": [
    "docs[0].text"
   ]
  },
  {
   "cell_type": "code",
   "execution_count": 27,
   "metadata": {},
   "outputs": [],
   "source": [
    "Search = \"Zebra\""
   ]
  },
  {
   "cell_type": "code",
   "execution_count": 29,
   "metadata": {},
   "outputs": [
    {
     "name": "stdout",
     "output_type": "stream",
     "text": [
      "Found\n",
      "{'Definition': '\"The first letter of the English and of many other alphabets. The capital A of the alphabets of Middle and Western Europe  as also the small letter (a) besides the forms in Italic black letter etc. are all descended from the old Latin A which was borrowed from the Greek Alpha of the same form; and this was made from the first letter (/) of the Phoenician alphabet the equivalent of the Hebrew Aleph and itself from the Egyptian origin. The Aleph was a consonant letter with a guttural breath sound that was not an element of Greek articulation; and the Greeks took it to represent their vowel Alpha with the a sound the Phoenician alphabet having no vowel symbols.\"'}\n"
     ]
    }
   ],
   "source": [
    "for values in docs.texts:\n",
    "    if Search == str(values):\n",
    "        print(\"Found\")\n",
    "        print(str(docs[0].tags))\n",
    "        break\n"
   ]
  },
  {
   "cell_type": "code",
   "execution_count": 39,
   "metadata": {},
   "outputs": [
    {
     "data": {
      "text/plain": [
       "'Word not found'"
      ]
     },
     "execution_count": 39,
     "metadata": {},
     "output_type": "execute_result"
    }
   ],
   "source": [
    "Semantic_Search(\"\")"
   ]
  },
  {
   "cell_type": "code",
   "execution_count": 35,
   "metadata": {},
   "outputs": [],
   "source": [
    "\n",
    "def String_Cutter(index):\n",
    "    string = str(docs[index].tags)\n",
    "    string= string[17 : ]\n",
    "    string = string[ :-3]\n",
    "    return string"
   ]
  },
  {
   "cell_type": "code",
   "execution_count": 34,
   "metadata": {},
   "outputs": [],
   "source": [
    "def Semantic_Search(Search):\n",
    "    for index in range(0,175761):\n",
    "        if Search == docs[index].text:\n",
    "            return String_Cutter(index)\n",
    "    return \"Word not found\""
   ]
  },
  {
   "cell_type": "code",
   "execution_count": null,
   "metadata": {},
   "outputs": [],
   "source": [
    "class Clean(Executor):\n",
    "    @requests\n",
    "    def clean(self, docs, parameters, **kwargs):\n",
    "        print(parameters)\n",
    "        return DocumentArray(list(filter(lambda x : len(x.text) > 0 , docs)))"
   ]
  },
  {
   "cell_type": "markdown",
   "metadata": {},
   "source": [
    ".add(\n",
    "        name=\"error_text_encoder\",\n",
    "        uses=\"jinahub://TransformerTorchEncoder\",\n",
    "        uses_with={\"pretrained_model_name_or_path\": model},\n",
    "    )\n",
    "    .add(\n",
    "        name=\"error_text_indexer\",\n",
    "        uses='jinahub://SimpleIndexer',\n",
    "    )"
   ]
  },
  {
   "cell_type": "code",
   "execution_count": null,
   "metadata": {},
   "outputs": [],
   "source": [
    "\n",
    "model = \"sentence-transformers/paraphrase-distilroberta-base-v1\"\n",
    "\n",
    "flow = (\n",
    "    Flow()\n",
    "    #.add(\n",
    "    #    name=\"error_text_encoder\",\n",
    "    #    uses=\"jinahub://TransformerTorchEncoder\",\n",
    "    #    uses_with={\"pretrained_model_name_or_path\": model},\n",
    "    #)\n",
    "    #.add(\n",
    "    #    name=\"error_text_indexer\",\n",
    "    #    uses='jinahub://SimpleIndexer',\n",
    "    #)\n",
    ")"
   ]
  },
  {
   "cell_type": "code",
   "execution_count": null,
   "metadata": {},
   "outputs": [],
   "source": [
    "docs = docs[:100]\n",
    "docs"
   ]
  },
  {
   "cell_type": "code",
   "execution_count": null,
   "metadata": {},
   "outputs": [],
   "source": [
    "#!del -rf workspace\n",
    "\n",
    "with flow:\n",
    "    flow.index(\n",
    "        inputs=docs,\n",
    "         docs=docs,\n",
    "         parameters = {'word' : 'Description'}\n",
    "    )"
   ]
  },
  {
   "cell_type": "code",
   "execution_count": null,
   "metadata": {},
   "outputs": [],
   "source": [
    "query = Document(text = input('Query product : '))\n",
    "with flow:\n",
    "    response = flow.search(inputs = query, return_results = True)"
   ]
  },
  {
   "cell_type": "code",
   "execution_count": null,
   "metadata": {},
   "outputs": [],
   "source": [
    "matches = response[0].docs[0].matches\n",
    "matches"
   ]
  },
  {
   "cell_type": "code",
   "execution_count": null,
   "metadata": {},
   "outputs": [],
   "source": [
    "for m in matches:\n",
    "    print()"
   ]
  }
 ],
 "metadata": {
  "interpreter": {
   "hash": "23226dcb379d0ed0866266b24bdca6ba08c94e9c5b850a146778e390a9c8ac73"
  },
  "kernelspec": {
   "display_name": "Python 3.9.7 64-bit",
   "name": "python3"
  },
  "language_info": {
   "codemirror_mode": {
    "name": "ipython",
    "version": 3
   },
   "file_extension": ".py",
   "mimetype": "text/x-python",
   "name": "python",
   "nbconvert_exporter": "python",
   "pygments_lexer": "ipython3",
   "version": "3.9.7"
  },
  "orig_nbformat": 4
 },
 "nbformat": 4,
 "nbformat_minor": 2
}
